{
  "nbformat": 4,
  "nbformat_minor": 0,
  "metadata": {
    "colab": {
      "name": "2022_02_20",
      "provenance": [],
      "collapsed_sections": [],
      "authorship_tag": "ABX9TyO9dMGquDg3FLnBhg0XEpeS",
      "include_colab_link": true
    },
    "kernelspec": {
      "name": "python3",
      "display_name": "Python 3"
    },
    "language_info": {
      "name": "python"
    }
  },
  "cells": [
    {
      "cell_type": "markdown",
      "metadata": {
        "id": "view-in-github",
        "colab_type": "text"
      },
      "source": [
        "<a href=\"https://colab.research.google.com/github/alan11258/Colaboratory-Lab/blob/main/2022_02_20.ipynb\" target=\"_parent\"><img src=\"https://colab.research.google.com/assets/colab-badge.svg\" alt=\"Open In Colab\"/></a>"
      ]
    },
    {
      "cell_type": "code",
      "execution_count": 1,
      "metadata": {
        "colab": {
          "base_uri": "https://localhost:8080/"
        },
        "id": "0QjVy7i-gxKW",
        "outputId": "ffb43ea8-16f8-4efd-9eee-17f2d25d31ba"
      },
      "outputs": [
        {
          "output_type": "stream",
          "name": "stdout",
          "text": [
            "s: 1035\n",
            "nums: [1, 2, 3, 4, 5, 6, 7, 8, 9, 10, 11, 12, 13, 14, 15, 16, 17, 18, 19, 20, 21, 22, 23, 24, 25, 26, 27, 28, 29, 30, 31, 32, 33, 34, 35, 36, 37, 38, 39, 40, 41, 42, 43, 44, 45]\n",
            "45\n",
            "45\n"
          ]
        }
      ],
      "source": [
        "nums = [];\n",
        "n = 1;\n",
        "s = 0;\n",
        "while s <= 1000:\n",
        "  s += n;\n",
        "  nums.append( n );\n",
        "  n += 1;\n",
        "\n",
        "print( \"s:\", s );\n",
        "print( \"nums:\", nums );\n",
        "print( len( nums ) );\n",
        "print( nums[-1] );\n"
      ]
    },
    {
      "cell_type": "code",
      "source": [
        "nums = [0,0,0,0,0,0,1,0,0,0,0,1,0,0,0,0,0,0,1,0,0,0,0,0,0,0,0,0,1,0,0,0,0,0,0,0,0,0,0];\n",
        "\n",
        "print( 1 in nums );\n",
        "\n",
        "while 1 in nums:\n",
        "  idx = nums.index(1);\n",
        "  print(\"idx:\", idx );\n",
        "  nums[idx] = 99;\n",
        "\n",
        "print( nums );"
      ],
      "metadata": {
        "colab": {
          "base_uri": "https://localhost:8080/"
        },
        "id": "8xpso9UctOhR",
        "outputId": "6804cd0d-399a-4e1e-ad81-fa633848dab9"
      },
      "execution_count": 2,
      "outputs": [
        {
          "output_type": "stream",
          "name": "stdout",
          "text": [
            "True\n",
            "idx: 6\n",
            "idx: 11\n",
            "idx: 18\n",
            "idx: 28\n",
            "[0, 0, 0, 0, 0, 0, 99, 0, 0, 0, 0, 99, 0, 0, 0, 0, 0, 0, 99, 0, 0, 0, 0, 0, 0, 0, 0, 0, 99, 0, 0, 0, 0, 0, 0, 0, 0, 0, 0]\n"
          ]
        }
      ]
    },
    {
      "cell_type": "code",
      "source": [
        "name_list = [\"Andy\", \"xxx\", \"John\", \"Abby\", \"xxx\", \"xxx\", \"Tony\", \"xxx\"];\n",
        "\n",
        "while \"xxx\" in name_list:\n",
        "  name_list.remove(\"xxx\");\n",
        "\n",
        "print( name_list );"
      ],
      "metadata": {
        "colab": {
          "base_uri": "https://localhost:8080/"
        },
        "id": "atWnU-hQxF5u",
        "outputId": "8d499136-8807-4e82-e571-25dee3856671"
      },
      "execution_count": 3,
      "outputs": [
        {
          "output_type": "stream",
          "name": "stdout",
          "text": [
            "['Andy', 'John', 'Abby', 'Tony']\n"
          ]
        }
      ]
    },
    {
      "cell_type": "code",
      "source": [
        "import random;\n",
        "\n",
        "nums = [1,2,3,4,5,6,7,8,9,10];\n",
        "\n",
        "print( random.choice( nums ) );"
      ],
      "metadata": {
        "colab": {
          "base_uri": "https://localhost:8080/"
        },
        "id": "QXhb8a8UytBn",
        "outputId": "ec913379-ca98-444e-e4a0-780d8b1c7767"
      },
      "execution_count": 5,
      "outputs": [
        {
          "output_type": "stream",
          "name": "stdout",
          "text": [
            "1\n"
          ]
        }
      ]
    },
    {
      "cell_type": "code",
      "source": [
        "from random import choice;\n",
        "\n",
        "nums = [1,2,3,4,5,6,7,8,9,10];\n",
        "\n",
        "print( choice( nums ) );\n"
      ],
      "metadata": {
        "colab": {
          "base_uri": "https://localhost:8080/"
        },
        "id": "57N7RrPKzN7H",
        "outputId": "321704ff-9169-4fd7-d522-903344324700"
      },
      "execution_count": 6,
      "outputs": [
        {
          "output_type": "stream",
          "name": "stdout",
          "text": [
            "7\n"
          ]
        }
      ]
    },
    {
      "cell_type": "code",
      "source": [
        "from random import choice;\n",
        "\n",
        "coin = [\"正面\",\"反面\"];\n",
        "\n",
        "def fun_randomCoin( coin ):\n",
        "  record = [];\n",
        "  headCount = 0;\n",
        "  while headCount < 3:\n",
        "    randomResult = choice( coin );\n",
        "    record.append( randomResult );\n",
        "    if randomResult == \"正面\":\n",
        "      headCount += 1;\n",
        "  return record;\n",
        "\n",
        "def fun_randomCoin2( coin ):\n",
        "  record = [];\n",
        "  while record.count(\"正面\") < 3:\n",
        "    c = choice( coin );\n",
        "    record.append( c );\n",
        "  return record;\n",
        "\n",
        "def fun_randomCoin3( headCount ):\n",
        "  randomResult = {};\n",
        "  randomResult[\"record\"] = [];\n",
        "  randomResult[\"headCount\"] = 0;\n",
        "  randomResult[\"tailCount\"] = 0;\n",
        "\n",
        "  while randomResult[\"headCount\"] < headCount:\n",
        "    c = choice( coin );\n",
        "    randomResult[\"record\"].append( c );\n",
        "    if c == \"正面\":randomResult[\"headCount\"] += 1;\n",
        "    else:randomResult[\"tailCount\"] += 1;\n",
        "  return randomResult;\n",
        "\n",
        "record = fun_randomCoin3( 3 );\n",
        "count = len( record[\"record\"] );\n",
        "print( record );\n",
        "print( f\"總共投擲了{ count }次\" );\n",
        "#\n",
        "\n"
      ],
      "metadata": {
        "colab": {
          "base_uri": "https://localhost:8080/"
        },
        "id": "9TK2OZkR1fjW",
        "outputId": "4c3907bb-a5b7-447a-ffab-ed78a70f4a01"
      },
      "execution_count": 26,
      "outputs": [
        {
          "output_type": "stream",
          "name": "stdout",
          "text": [
            "{'record': ['正面', '正面', '正面'], 'headCount': 3, 'tailCount': 0}\n",
            "總共投擲了3次\n"
          ]
        }
      ]
    },
    {
      "cell_type": "code",
      "source": [
        "from random import choice;\n",
        "\n",
        "nums = range(10);\n",
        "nums = list( nums );\n",
        "\n",
        "\n",
        "\n",
        "def fun_getNoDuplicateNum( limitNum ):\n",
        "  record = [];\n",
        "  anwser = [];\n",
        "  while len( anwser ) < limitNum:\n",
        "    c = choice( nums );\n",
        "    record.append( c );\n",
        "    if c in anwser:continue;\n",
        "    else:anwser.append( c );\n",
        "  anwser.sort();\n",
        "  print( f\"You choice {limitNum} no duplicate number.\");\n",
        "  print( \"record:\", record );\n",
        "  print( \"anwser:\", anwser );\n",
        "\n",
        "fun_getNoDuplicateNum( 5 );"
      ],
      "metadata": {
        "colab": {
          "base_uri": "https://localhost:8080/"
        },
        "id": "nktriVPU5br4",
        "outputId": "9bf5e7fa-f0dc-4d50-e6b8-ab05d2781376"
      },
      "execution_count": 54,
      "outputs": [
        {
          "output_type": "stream",
          "name": "stdout",
          "text": [
            "You choice 5 no duplicate number.\n",
            "record: [1, 1, 0, 5, 3, 1, 1, 6]\n",
            "anwser: [0, 1, 3, 5, 6]\n"
          ]
        }
      ]
    },
    {
      "cell_type": "code",
      "source": [
        "# fibonacci number\n",
        "nums = [0,1];\n",
        "\n",
        "while len( nums ) < 20:\n",
        "  n = nums[-1] + nums[-2];\n",
        "  nums.append( n );\n",
        "\n",
        "print( nums );\n",
        "\n"
      ],
      "metadata": {
        "colab": {
          "base_uri": "https://localhost:8080/"
        },
        "id": "gm7be20l_PPH",
        "outputId": "fba61491-631c-4873-e260-e4e5d9af8915"
      },
      "execution_count": 56,
      "outputs": [
        {
          "output_type": "stream",
          "name": "stdout",
          "text": [
            "[0, 1, 1, 2, 3, 5, 8, 13, 21, 34, 55, 89, 144, 233, 377, 610, 987, 1597, 2584, 4181]\n"
          ]
        }
      ]
    },
    {
      "cell_type": "code",
      "source": [
        "nums = [20,50,49,64];\n",
        "for idx, n in enumerate(nums):\n",
        "  print(f\"第{idx+1}筆資料是{n}\")"
      ],
      "metadata": {
        "colab": {
          "base_uri": "https://localhost:8080/"
        },
        "id": "Jkt1zjS9Bp5O",
        "outputId": "de013f6a-b741-4211-e62e-09c5bc74ce09"
      },
      "execution_count": 58,
      "outputs": [
        {
          "output_type": "stream",
          "name": "stdout",
          "text": [
            "第1筆資料是20\n",
            "第2筆資料是50\n",
            "第3筆資料是49\n",
            "第4筆資料是64\n"
          ]
        }
      ]
    },
    {
      "cell_type": "code",
      "source": [
        "# anaconda\n",
        "# https://www.youtube.com/playlist?list=PLCsSgXMApja8Lbpflh98F98J-xuAFpWL1\n",
        "# https://drive.google.com/drive/folders/1s1anyXu-Ln31N_YJ379wIhZZQL_ClNsL?usp=sharing\n",
        "name_list = [\"A\",\"B\",\"C\",\"D\",\"E\"];\n",
        "score_list = [60,75,82,54,92];\n",
        "\n",
        "for name, score in zip( name_list, score_list ):\n",
        "  print(f\"{name}考了{score}分\");\n",
        "\n"
      ],
      "metadata": {
        "colab": {
          "base_uri": "https://localhost:8080/"
        },
        "id": "mOLOvz-lEBaQ",
        "outputId": "4f9c66cd-d298-4734-c783-173089bc01f6"
      },
      "execution_count": 59,
      "outputs": [
        {
          "output_type": "stream",
          "name": "stdout",
          "text": [
            "A考了60分\n",
            "B考了75分\n",
            "C考了82分\n",
            "D考了54分\n",
            "E考了92分\n"
          ]
        }
      ]
    }
  ]
}
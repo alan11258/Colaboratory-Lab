{
  "nbformat": 4,
  "nbformat_minor": 0,
  "metadata": {
    "colab": {
      "name": "2022_02_13",
      "provenance": [],
      "authorship_tag": "ABX9TyMUz4zZO/vLUmUOjvvw+h6a",
      "include_colab_link": true
    },
    "kernelspec": {
      "name": "python3",
      "display_name": "Python 3"
    },
    "language_info": {
      "name": "python"
    }
  },
  "cells": [
    {
      "cell_type": "markdown",
      "metadata": {
        "id": "view-in-github",
        "colab_type": "text"
      },
      "source": [
        "<a href=\"https://colab.research.google.com/github/alan11258/Colaboratory-Lab/blob/main/2022_02_13.ipynb\" target=\"_parent\"><img src=\"https://colab.research.google.com/assets/colab-badge.svg\" alt=\"Open In Colab\"/></a>"
      ]
    },
    {
      "cell_type": "code",
      "execution_count": 32,
      "metadata": {
        "colab": {
          "base_uri": "https://localhost:8080/"
        },
        "id": "Fw-BWnyBfQxi",
        "outputId": "5ad118dc-bc2b-44cb-a5a9-3e12272b681d"
      },
      "outputs": [
        {
          "output_type": "stream",
          "name": "stdout",
          "text": [
            "&&&&*\n",
            "&&&*\n",
            "&&*\n",
            "&*\n",
            "*\n"
          ]
        }
      ],
      "source": [
        "def fun_99_loop3():\n",
        "  for a in range(1,10):\n",
        "    result = \"\";\n",
        "    for b in range(1,10):\n",
        "      result += f\"{b:02d} x {a:02d} = {( a * b ):02d}   \"\n",
        "      # print( str(a) + \" x \" + str(b) + \" = \" + str( a * b ) )\n",
        "      if b == a:break;\n",
        "    print( result );\n",
        "\n",
        "# *\n",
        "# **\n",
        "# ***\n",
        "# ****\n",
        "def fun_triangle1():\n",
        "  for i in range(5):\n",
        "    # print( type( i ) );\n",
        "    for k in range(i):\n",
        "      print(\"*\", end='', flush=True );\n",
        "    print(\"\");\n",
        "\n",
        "def fun_triangleRight():\n",
        "  for i in range(5):\n",
        "    # print( type( i ) );\n",
        "    for k in range(i):\n",
        "      print(\"*\", end='', flush=True );\n",
        "    print(\"\");\n",
        "\n",
        "def fun_genPicStr( inStr, totallen ):\n",
        "  result = \"\";\n",
        "  for i in range( totallen ):\n",
        "    result += inStr;\n",
        "  return result;\n",
        "\n",
        "def fun_triangleLeft():\n",
        "  starCount = 1;\n",
        "  for i in range(5):\n",
        "    str1 = fun_genPicStr( \"*\", starCount );\n",
        "    str2 = fun_genPicStr( \" \", i - starCount );\n",
        "    starCount++;\n",
        "    print( str1 + str2 );\n",
        "\n",
        "def fun_triangleUtil( direction ):\n",
        "  str1 = \"\";\n",
        "  str2 = \"\";\n",
        "  if( direction == \"R\" ):\n",
        "    fun_triangleRight();\n",
        "  elif( direction == \"L\" ):fun_triangleLeft();\n",
        "\n",
        "\n",
        "# fun_99_loop3();\n",
        "# fun_triangleRight();\n",
        "fun_triangleUtil(\"L\");"
      ]
    },
    {
      "cell_type": "code",
      "source": [
        ""
      ],
      "metadata": {
        "id": "N6K3iZGBgzck"
      },
      "execution_count": null,
      "outputs": []
    }
  ]
}
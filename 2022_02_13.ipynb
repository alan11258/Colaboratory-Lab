{
  "nbformat": 4,
  "nbformat_minor": 0,
  "metadata": {
    "colab": {
      "name": "2022_02_13",
      "provenance": [],
      "authorship_tag": "ABX9TyMY3R6znzxaRKLHX6Bu9lsE",
      "include_colab_link": true
    },
    "kernelspec": {
      "name": "python3",
      "display_name": "Python 3"
    },
    "language_info": {
      "name": "python"
    }
  },
  "cells": [
    {
      "cell_type": "markdown",
      "metadata": {
        "id": "view-in-github",
        "colab_type": "text"
      },
      "source": [
        "<a href=\"https://colab.research.google.com/github/alan11258/Colaboratory-Lab/blob/main/2022_02_13.ipynb\" target=\"_parent\"><img src=\"https://colab.research.google.com/assets/colab-badge.svg\" alt=\"Open In Colab\"/></a>"
      ]
    },
    {
      "cell_type": "code",
      "execution_count": 34,
      "metadata": {
        "colab": {
          "base_uri": "https://localhost:8080/"
        },
        "id": "Fw-BWnyBfQxi",
        "outputId": "f5e6787a-3edc-4d1a-c14e-f38660b22414"
      },
      "outputs": [
        {
          "output_type": "stream",
          "name": "stdout",
          "text": [
            "                 *                \n",
            "                ***               \n",
            "               *****              \n",
            "              *******             \n",
            "             *********            \n",
            "            ***********           \n",
            "           *************          \n",
            "          ***************         \n",
            "         *****************        \n",
            "        *******************       \n",
            "       *********************      \n",
            "      ***********************     \n",
            "     *************************    \n",
            "    ***************************   \n",
            "   *****************************  \n",
            "  ******************************* \n",
            " *********************************\n",
            "***********************************\n",
            " *********************************\n",
            "  ******************************* \n",
            "   *****************************  \n",
            "    ***************************   \n",
            "     *************************    \n",
            "      ***********************     \n",
            "       *********************      \n",
            "        *******************       \n",
            "         *****************        \n",
            "          ***************         \n",
            "           *************          \n",
            "            ***********           \n",
            "             *********            \n",
            "              *******             \n",
            "               *****              \n",
            "                ***               \n",
            "                 *                \n"
          ]
        }
      ],
      "source": [
        "def fun_99_loop3():\n",
        "  for a in range(1,10):\n",
        "    result = \"\";\n",
        "    for b in range(1,10):\n",
        "      result += f\"{b:02d} x {a:02d} = {( a * b ):02d}   \"\n",
        "      # print( str(a) + \" x \" + str(b) + \" = \" + str( a * b ) )\n",
        "      if b == a:break;\n",
        "    print( result );\n",
        "\n",
        "# *\n",
        "# **\n",
        "# ***\n",
        "# ****\n",
        "def fun_triangle():\n",
        "  for i in range(5):\n",
        "    # print( type( i ) );\n",
        "    for k in range(i):\n",
        "      print(\"*\", end='', flush=True );\n",
        "    print(\"\");\n",
        "\n",
        "def fun_genPicStr( inStr, totallen ):\n",
        "  result = \"\";\n",
        "  for i in range( totallen ):\n",
        "    result += inStr;\n",
        "  return result;\n",
        "\n",
        "def fun_triangleRight( rowLen ):\n",
        "  starCount = 1;\n",
        "  for i in range( rowLen ):\n",
        "    str1 = fun_genPicStr( \" \", rowLen - starCount );\n",
        "    str2 = fun_genPicStr( \"*\", starCount );\n",
        "    starCount += 1;\n",
        "    print( str1 + str2 );\n",
        "\n",
        "def fun_triangleLeft( rowLen ):\n",
        "  starCount = 1;\n",
        "  for i in range( rowLen ):\n",
        "    str1 = fun_genPicStr( \"*\", starCount );\n",
        "    str2 = fun_genPicStr( \" \", i - starCount );\n",
        "    starCount += 1;\n",
        "    print( str1 + str2 );\n",
        "\n",
        "def fun_isoscelesTriangle( rowLen ):\n",
        "  if( rowLen % 2 == 0 ):rowLen += 1;\n",
        "  starCount = 1;\n",
        "  for i in range( rowLen ):\n",
        "    if( starCount > rowLen ):break;\n",
        "    # print( i );\n",
        "    spaceCountHalf = int( ( rowLen - starCount ) / 2 );\n",
        "    str1 = fun_genPicStr( \" \", spaceCountHalf );\n",
        "    str2 = fun_genPicStr( \"*\", starCount );\n",
        "    str3 = fun_genPicStr( \" \", spaceCountHalf );\n",
        "    starCount += 2;\n",
        "    print( \" \" + str1 + str2 + str3 );\n",
        "\n",
        "def fun_isoscelesTriangleReverse( rowLen ):\n",
        "  if( rowLen % 2 == 0 ):rowLen += 1;\n",
        "  starCount = rowLen;\n",
        "  for i in range( rowLen ):\n",
        "    if( starCount < 0 ):break;\n",
        "    # print( i );\n",
        "    spaceCountHalf = int( ( rowLen - starCount ) / 2 );\n",
        "    str1 = fun_genPicStr( \" \", spaceCountHalf );\n",
        "    str2 = fun_genPicStr( \"*\", starCount );\n",
        "    str3 = fun_genPicStr( \" \", spaceCountHalf );\n",
        "    starCount -= 2;\n",
        "    print( \" \" + str1 + str2 + str3 );\n",
        "\n",
        "def fun_diamond( rowLen ):\n",
        "\n",
        "  fun_triangleUtil(\"I\", rowLen - 2 );\n",
        "  str1 = fun_genPicStr( \"*\", rowLen );\n",
        "  print( str1 );\n",
        "  fun_triangleUtil(\"RI\", rowLen - 2 );\n",
        "\n",
        "def fun_triangleUtil( direction, rowLen ):\n",
        "  str1 = \"\";\n",
        "  str2 = \"\";\n",
        "  if( direction == \"R\" ):fun_triangleRight( rowLen );\n",
        "  elif( direction == \"L\" ):fun_triangleLeft( rowLen );\n",
        "  elif( direction == \"I\" ):fun_isoscelesTriangle( rowLen );\n",
        "  elif( direction == \"RI\" ):fun_isoscelesTriangleReverse( rowLen );\n",
        "  else:fun_diamond( rowLen );\n",
        "\n",
        "\n",
        "nums = [ 3, 9, 12, 57, 49, 87 ];\n",
        "\n",
        "def fun_addLast( inList ):\n",
        "  nums.append( inList );\n",
        "  print( f\"陣列長度為:{len(nums)}\" );\n",
        "  print( nums );\n",
        "\n",
        "def fun_addFirst( inList ):\n",
        "  nums.insert( inList );\n",
        "  print( f\"陣列長度為:{len(nums)}\" );\n",
        "  print( nums );\n",
        "\n",
        "def fun_addList():\n",
        "  print( nums );\n",
        "  inList = input(\"請輸入要增加的數字:\");\n",
        "  fun_addLast( inList );\n",
        "\n",
        "def fun_removeList( val ):\n",
        "  print( nums );\n",
        "  if nums.count( val ) > 0:\n",
        "    nums.remove( val );\n",
        "  else:\n",
        "    print( f\"陣列內並沒有輸入的數字:{val}\" );\n",
        "\n",
        "def fun_chkList():\n",
        "  print( nums );\n",
        "  inList = input(\"請輸入要檢查的數字:\");\n",
        "  if inList in nums:\n",
        "    print( f\"陣列有輸入的數字:{inList}\" ); \n",
        "  else:\n",
        "    print( f\"陣列內並沒有輸入的數字:{inList}\" ); \n",
        "\n",
        "def fun_demoRemove():\n",
        "  print( nums );\n",
        "  inList = input(\"請輸入要移除的數字:\");\n",
        "  fun_removeList( inList );\n",
        "\n",
        "def fun_demoRemove():\n",
        "  inList = input(\"請輸入要移除的數字:\");\n",
        "  fun_removeList( inList );\n",
        "\n",
        "# fun_99_loop3();\n",
        "\n",
        "# fun_triangleUtil(\"R\", 5 );\n",
        "# fun_triangleUtil(\"L\", 5 );\n",
        "# fun_triangleUtil(\"I\", 25 );\n",
        "# fun_triangleUtil(\"RI\", 25 );\n",
        "\n",
        "fun_triangleUtil(\"DI\", 35 );\n",
        "\n",
        "# fun_chkList();\n",
        "\n",
        "# fun_demoRemove();\n",
        "\n"
      ]
    },
    {
      "cell_type": "code",
      "source": [
        "nums = [ 25, 10, 2, 89, 54, 56, 47, 31 ];\n",
        "\n",
        "def fun_sortList():\n",
        "  print(\"Before sort:\", nums );\n",
        "  nums.sort();\n",
        "  print(\"After sort:\", nums );\n",
        "\n",
        "def fun_mapList():\n",
        "  print(\"Before update:\", nums );\n",
        "  result = map( lambda x: x * 2, nums );\n",
        "  print(\"After update:\", list(result) );\n",
        "\n",
        "# fun_sortList();\n",
        "# fun_mapList();\n"
      ],
      "metadata": {
        "colab": {
          "base_uri": "https://localhost:8080/"
        },
        "id": "N6K3iZGBgzck",
        "outputId": "77cb5cb6-6136-4e8e-e68e-136770c6db6f"
      },
      "execution_count": 46,
      "outputs": [
        {
          "output_type": "stream",
          "name": "stdout",
          "text": [
            "Before sort: [25, 10, 2, 89, 54, 56, 47, 31]\n",
            "After sort: [2, 10, 25, 31, 47, 54, 56, 89]\n",
            "Before update: [2, 10, 25, 31, 47, 54, 56, 89]\n",
            "After update: [4, 20, 50, 62, 94, 108, 112, 178]\n"
          ]
        }
      ]
    },
    {
      "cell_type": "code",
      "source": [
        "user = {};\n",
        "user[\"name\"] = \"Alan\";\n",
        "user[\"age\"] = 25;\n",
        "user[\"address\"] = { \n",
        "    \"city\":\"Taipei\",\n",
        "    \"district\":\"Beitou\",\n",
        "    \"zip\":112\n",
        "}\n",
        "\n",
        "def fun_getAddress( key ):\n",
        "  print( user[\"address\"][ key ] );\n",
        "\n",
        "fun_getAddress( \"city\" );"
      ],
      "metadata": {
        "colab": {
          "base_uri": "https://localhost:8080/"
        },
        "id": "klzKM5zs_Tl8",
        "outputId": "ba36e917-773c-4724-e95f-0cd4a388ade0"
      },
      "execution_count": 48,
      "outputs": [
        {
          "output_type": "stream",
          "name": "stdout",
          "text": [
            "Taipei\n"
          ]
        }
      ]
    },
    {
      "cell_type": "code",
      "source": [
        ""
      ],
      "metadata": {
        "id": "2SFYEgI3D8F1"
      },
      "execution_count": null,
      "outputs": []
    }
  ]
}
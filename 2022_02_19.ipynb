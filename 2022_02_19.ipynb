{
  "nbformat": 4,
  "nbformat_minor": 0,
  "metadata": {
    "colab": {
      "name": "2022_02_19",
      "provenance": [],
      "collapsed_sections": [],
      "authorship_tag": "ABX9TyNtrKfWPNrF+UdMXR5YLhU8",
      "include_colab_link": true
    },
    "kernelspec": {
      "name": "python3",
      "display_name": "Python 3"
    },
    "language_info": {
      "name": "python"
    }
  },
  "cells": [
    {
      "cell_type": "markdown",
      "metadata": {
        "id": "view-in-github",
        "colab_type": "text"
      },
      "source": [
        "<a href=\"https://colab.research.google.com/github/alan11258/Colaboratory-Lab/blob/main/2022_02_19.ipynb\" target=\"_parent\"><img src=\"https://colab.research.google.com/assets/colab-badge.svg\" alt=\"Open In Colab\"/></a>"
      ]
    },
    {
      "cell_type": "code",
      "execution_count": null,
      "metadata": {
        "colab": {
          "base_uri": "https://localhost:8080/"
        },
        "id": "dUsLOqguXDQm",
        "outputId": "96adc61d-b688-42be-cee5-f0c7e24f6c8f"
      },
      "outputs": [
        {
          "output_type": "stream",
          "name": "stdout",
          "text": [
            "星期一\n",
            "星期二\n",
            "星期三\n",
            "星期四\n",
            "星期五\n"
          ]
        }
      ],
      "source": [
        "# https://hackmd.io/@KbbbrL2kQGCA7eHztz-v6w/B1Kt_cG6z#/\n",
        "weekdays = [\"星期一\", \"星期二\", \"星期三\", \"星期四\", \"星期五\"]\n",
        " \n",
        "for weekday in weekdays:\n",
        "  \"\"\" magic \"\"\"\n",
        "  print(weekday)\n",
        "\n"
      ]
    },
    {
      "cell_type": "code",
      "source": [
        "records = [\n",
        "    {\"income\": 40000, \"expense\": 23000},\n",
        "    {\"income\": 60000, \"expense\": 54000},\n",
        "    {\"income\": 22000, \"expense\": 35000},\n",
        "    {\"income\": 32000, \"expense\": 40000},\n",
        "    {\"income\": 70000, \"expense\": 20000}\n",
        "]\n",
        "def getKeyList( dict ):\n",
        "  return dict.keys()\n",
        "\n",
        "def getIncomeExpenseSum( obj ):\n",
        "    incomeSum = 0;\n",
        "    expenseSum = 0;\n",
        "    for i in obj:\n",
        "      incomeSum += i[\"income\"];\n",
        "      expenseSum += i[\"expense\"];\n",
        "    return [ incomeSum, expenseSum ];\n",
        "\n",
        "\n",
        "result = getIncomeExpenseSum( records );\n",
        "\n",
        "print( result );\n",
        "\n",
        "# print( getKeyList( records[0] ) );\n",
        "\n",
        "\n"
      ],
      "metadata": {
        "colab": {
          "base_uri": "https://localhost:8080/"
        },
        "id": "u24SDHNaXwlJ",
        "outputId": "b8d42f69-60ea-4b4f-eb5a-bbf151af2599"
      },
      "execution_count": null,
      "outputs": [
        {
          "output_type": "stream",
          "name": "stdout",
          "text": [
            "dict_keys(['income', 'expense'])\n"
          ]
        }
      ]
    },
    {
      "cell_type": "code",
      "source": [
        "def sumCustomRange( start, end ):\n",
        "  resStr = \"\";\n",
        "  s = 0;\n",
        "  for i in range( start, end ):\n",
        "    resStr += str(i) + \"+\";\n",
        "    s += i;\n",
        "  s += end;\n",
        "  resStr += str( end ) + \"=\" + str(s);\n",
        "\n",
        "  print( resStr );\n",
        "\n",
        "sumCustomRange( 1, 100 );\n"
      ],
      "metadata": {
        "colab": {
          "base_uri": "https://localhost:8080/"
        },
        "id": "hZrluiZ6raLP",
        "outputId": "27da4ef4-5f03-4b57-cb75-6eb106f2eefe"
      },
      "execution_count": null,
      "outputs": [
        {
          "output_type": "stream",
          "name": "stdout",
          "text": [
            "1+2+3+4+5+6+7+8+9+10+11+12+13+14+15+16+17+18+19+20+21+22+23+24+25+26+27+28+29+30+31+32+33+34+35+36+37+38+39+40+41+42+43+44+45+46+47+48+49+50+51+52+53+54+55+56+57+58+59+60+61+62+63+64+65+66+67+68+69+70+71+72+73+74+75+76+77+78+79+80+81+82+83+84+85+86+87+88+89+90+91+92+93+94+95+96+97+98+99+100=5050\n"
          ]
        }
      ]
    },
    {
      "cell_type": "code",
      "source": [
        "def fun_Input():\n",
        "  inStr = input(\"Please input loop level:\");\n",
        "  # print(f\"This is {inStr} x {inStr} Loop\");\n",
        "\n",
        "  notIntVal = chkNotIntVal( inStr );\n",
        "  while notIntVal:\n",
        "    inStr = input(\"Please input loop level:\");\n",
        "    notIntVal = chkNotIntVal( inStr );\n",
        "  \n",
        "  print(f\"This is {inStr} x {inStr} Loop.\");\n",
        "\n",
        "  level = int( inStr );\n",
        "  fun_99_loop( level );\n",
        "\n",
        "def chkIntVal( inStr ):\n",
        "  try:\n",
        "    int( inStr );\n",
        "  except:\n",
        "    print(\"Please input valid number.\")\n",
        "    return False;\n",
        "  return True;\n",
        "\n",
        "def chkNotIntVal( inStr ):\n",
        "  try:\n",
        "    int( inStr );\n",
        "  except:\n",
        "    print(\"Please input valid number.\")\n",
        "    return True;\n",
        "  return False;\n",
        "\n",
        "\n",
        "def fun_99_loop( level ):\n",
        "  for a in range( 1, level + 1 ):\n",
        "    result = \"\";\n",
        "    for b in range( 1, level + 1 ):\n",
        "      result += f\"{b:03d} x {a:03d} = {( a * b ):03d}   \"\n",
        "      # print( str(a) + \" x \" + str(b) + \" = \" + str( a * b ) )\n",
        "      if b == a:break;\n",
        "    print( result );\n",
        "\n",
        "fun_Input();\n",
        "\n"
      ],
      "metadata": {
        "colab": {
          "base_uri": "https://localhost:8080/"
        },
        "id": "tX7R3HV3uzFZ",
        "outputId": "93db2730-8907-4716-cc63-270dfb626672"
      },
      "execution_count": 19,
      "outputs": [
        {
          "output_type": "stream",
          "name": "stdout",
          "text": [
            "Please input loop level:y\n",
            "Please input valid number.\n",
            "Please input loop level:a\n",
            "Please input valid number.\n",
            "Please input loop level:d\n",
            "Please input valid number.\n",
            "Please input loop level:9\n",
            "This is 9 x 9 Loop\n",
            "001 x 001 = 001   \n",
            "001 x 002 = 002   002 x 002 = 004   \n",
            "001 x 003 = 003   002 x 003 = 006   003 x 003 = 009   \n",
            "001 x 004 = 004   002 x 004 = 008   003 x 004 = 012   004 x 004 = 016   \n",
            "001 x 005 = 005   002 x 005 = 010   003 x 005 = 015   004 x 005 = 020   005 x 005 = 025   \n",
            "001 x 006 = 006   002 x 006 = 012   003 x 006 = 018   004 x 006 = 024   005 x 006 = 030   006 x 006 = 036   \n",
            "001 x 007 = 007   002 x 007 = 014   003 x 007 = 021   004 x 007 = 028   005 x 007 = 035   006 x 007 = 042   007 x 007 = 049   \n",
            "001 x 008 = 008   002 x 008 = 016   003 x 008 = 024   004 x 008 = 032   005 x 008 = 040   006 x 008 = 048   007 x 008 = 056   008 x 008 = 064   \n",
            "001 x 009 = 009   002 x 009 = 018   003 x 009 = 027   004 x 009 = 036   005 x 009 = 045   006 x 009 = 054   007 x 009 = 063   008 x 009 = 072   009 x 009 = 081   \n"
          ]
        }
      ]
    },
    {
      "cell_type": "code",
      "source": [
        "import requests;\n",
        "\n",
        "stockId = \"2330\";\n",
        "url = f\"https://mis.twse.com.tw/stock/api/getStockInfo.jsp?ex_ch=tse_{stockId}.tw&json=1&delay=0&_=1645256016760\";\n",
        "\n",
        "def fun_getResponse( url ):\n",
        "  res = requests.get( url );\n",
        "  return res;\n",
        "\n",
        "def fun_getJsonData( res ):\n",
        "  data = res.json();\n",
        "  for i in data:\n",
        "    print( i + \"=\", end=\"\", flush=True);\n",
        "    print( data[i] );\n",
        "\n",
        "res = fun_getResponse( url );\n",
        "\n",
        "fun_getJsonData( res );\n",
        "\n"
      ],
      "metadata": {
        "colab": {
          "base_uri": "https://localhost:8080/"
        },
        "id": "ZkoWIYxi6RQX",
        "outputId": "56cdf2b5-9b5c-443c-992a-6ec7432a3ab2"
      },
      "execution_count": 27,
      "outputs": [
        {
          "output_type": "stream",
          "name": "stdout",
          "text": [
            "msgArray=[{'tv': '3064', 'ps': '3049', 'pz': '637.0000', 'bp': '0', 'fv': '26', 'oa': '641.0000', 'ob': '640.0000', 'a': '638.0000_639.0000_640.0000_641.0000_642.0000_', 'b': '637.0000_636.0000_635.0000_634.0000_633.0000_', 'c': '2330', 'd': '20220218', 'ch': '2330.tw', 'ot': '14:30:00', 'tlong': '1645165800000', 'f': '476_347_222_436_672_', 'ip': '0', 'g': '802_1590_2754_591_1212_', 'mt': '000000', 'ov': '28191', 'h': '639.0000', 'i': '24', 'it': '12', 'oz': '640.0000', 'l': '636.0000', 'n': '台積電', 'o': '638.0000', 'p': '0', 'ex': 'tse', 's': '3064', 't': '13:30:00', 'u': '709.0000', 'v': '20750', 'w': '581.0000', 'nf': '台灣積體電路製造股份有限公司', 'y': '645.0000', 'z': '637.0000', 'ts': '0'}]\n",
            "referer=\n",
            "userDelay=5000\n",
            "rtcode=0000\n",
            "queryTime={'sysDate': '20220219', 'stockInfoItem': 1830, 'stockInfo': 163055, 'sessionStr': 'UserSession', 'sysTime': '15:50:50', 'showChart': False, 'sessionFromTime': -1, 'sessionLatestTime': -1}\n",
            "rtmessage=OK\n",
            "exKey=if_tse_2330.tw_zh-tw.null\n",
            "cachedAlive=40041\n"
          ]
        }
      ]
    }
  ]
}